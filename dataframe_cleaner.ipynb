{
 "cells": [
  {
   "cell_type": "code",
   "execution_count": 5,
   "metadata": {},
   "outputs": [],
   "source": [
    "#libraries\n",
    "\n",
    "import pandas as pd\n",
    "import glob\n",
    "import os"
   ]
  },
  {
   "cell_type": "code",
   "execution_count": 6,
   "metadata": {},
   "outputs": [
    {
     "name": "stdout",
     "output_type": "stream",
     "text": [
      "                   Team Games   Win  Loss  Off.Rank  Off.Plays  Off.Yards  \\\n",
      "0           Akron (MAC)    12   5.0   7.0     106.0      837.0     4104.0   \n",
      "1         Alabama (SEC)    13  11.0   2.0      33.0      826.0     5903.0   \n",
      "2      Arizona (Pac-12)    13   8.0   5.0      31.0     1030.0     5960.0   \n",
      "3  Arizona St. (Pac-12)    14  10.0   4.0      32.0     1102.0     6402.0   \n",
      "4        Arkansas (SEC)    12   3.0   9.0      99.0      775.0     4286.0   \n",
      "\n",
      "   Off.Yards.Play  Off.TDs  Total.TDs  ...  Interceptions Thrown.y  \\\n",
      "0            4.90     30.0       31.0  ...                     NaN   \n",
      "1            7.15     58.0       65.0  ...                     NaN   \n",
      "2            5.79     52.0       57.0  ...                     NaN   \n",
      "3            5.81     64.0       69.0  ...                     NaN   \n",
      "4            5.53     29.0       30.0  ...                     NaN   \n",
      "\n",
      "   Turnovers Lost  Turnover Margin  Avg Turnover Margin per Game  \\\n",
      "0             NaN              NaN                           NaN   \n",
      "1             NaN              NaN                           NaN   \n",
      "2             NaN              NaN                           NaN   \n",
      "3             NaN              NaN                           NaN   \n",
      "4             NaN              NaN                           NaN   \n",
      "\n",
      "   Kickoff Touchbacks_x  Kickoff Touchbacks_y  Interceptions Thrown_x  \\\n",
      "0                   NaN                   NaN                     NaN   \n",
      "1                   NaN                   NaN                     NaN   \n",
      "2                   NaN                   NaN                     NaN   \n",
      "3                   NaN                   NaN                     NaN   \n",
      "4                   NaN                   NaN                     NaN   \n",
      "\n",
      "   Interceptions Thrown_y  Opp Field Goals Made  Field Goals  \n",
      "0                     NaN                   NaN          NaN  \n",
      "1                     NaN                   NaN          NaN  \n",
      "2                     NaN                   NaN          NaN  \n",
      "3                     NaN                   NaN          NaN  \n",
      "4                     NaN                   NaN          NaN  \n",
      "\n",
      "[5 rows x 305 columns]\n"
     ]
    }
   ],
   "source": [
    "#combine all the csv files into one csv file\n",
    "\n",
    "folder_path = \"Data\"\n",
    "file_paths = glob.glob(os.path.join(folder_path, \"*.csv\")) #get all the csv files in the folder\n",
    "\n",
    "dfs = []\n",
    "\n",
    "for file in file_paths:\n",
    "    season = os.path.basename(file).split('_')[-1].split('.')[0] #gettting the season from the file name\n",
    "\n",
    "    df = pd.read_csv(file)\n",
    "\n",
    "    df[\"Season\"] = season\n",
    "\n",
    "    dfs.append(df)\n",
    "\n",
    "final_df = pd.concat(dfs, ignore_index=True) #combining all the dataframes\n",
    "\n",
    "final_df.to_csv(\"combined_football_data.csv\", index=False) #name of the combined file\n",
    "\n",
    "print(final_df.head()) #previewing the df"
   ]
  },
  {
   "cell_type": "code",
   "execution_count": 7,
   "metadata": {},
   "outputs": [
    {
     "name": "stdout",
     "output_type": "stream",
     "text": [
      "Team                       object\n",
      "Games                      object\n",
      "Win                       float64\n",
      "Loss                      float64\n",
      "Off.Rank                  float64\n",
      "                           ...   \n",
      "Kickoff Touchbacks_y       object\n",
      "Interceptions Thrown_x     object\n",
      "Interceptions Thrown_y     object\n",
      "Opp Field Goals Made      float64\n",
      "Field Goals               float64\n",
      "Length: 305, dtype: object\n"
     ]
    }
   ],
   "source": [
    "#ensuring the varibles are the correct data type\n",
    "\n",
    "print(final_df.dtypes)"
   ]
  },
  {
   "cell_type": "code",
   "execution_count": 8,
   "metadata": {},
   "outputs": [
    {
     "name": "stdout",
     "output_type": "stream",
     "text": [
      "                   Team Games   Win  Loss  Off.Rank  Off.Plays  Off.Yards  \\\n",
      "0           Akron (MAC)    12   5.0   7.0     106.0      837.0     4104.0   \n",
      "1         Alabama (SEC)    13  11.0   2.0      33.0      826.0     5903.0   \n",
      "2      Arizona (Pac-12)    13   8.0   5.0      31.0     1030.0     5960.0   \n",
      "3  Arizona St. (Pac-12)    14  10.0   4.0      32.0     1102.0     6402.0   \n",
      "4        Arkansas (SEC)    12   3.0   9.0      99.0      775.0     4286.0   \n",
      "\n",
      "   Off.Yards.Play  Off.TDs  Total.TDs  ...  Interceptions Thrown.y  \\\n",
      "0            4.90     30.0       31.0  ...                     NaN   \n",
      "1            7.15     58.0       65.0  ...                     NaN   \n",
      "2            5.79     52.0       57.0  ...                     NaN   \n",
      "3            5.81     64.0       69.0  ...                     NaN   \n",
      "4            5.53     29.0       30.0  ...                     NaN   \n",
      "\n",
      "   Turnovers Lost  Turnover Margin  Avg Turnover Margin per Game  \\\n",
      "0             NaN              NaN                           NaN   \n",
      "1             NaN              NaN                           NaN   \n",
      "2             NaN              NaN                           NaN   \n",
      "3             NaN              NaN                           NaN   \n",
      "4             NaN              NaN                           NaN   \n",
      "\n",
      "   Kickoff Touchbacks_x  Kickoff Touchbacks_y  Interceptions Thrown_x  \\\n",
      "0                   NaN                   NaN                     NaN   \n",
      "1                   NaN                   NaN                     NaN   \n",
      "2                   NaN                   NaN                     NaN   \n",
      "3                   NaN                   NaN                     NaN   \n",
      "4                   NaN                   NaN                     NaN   \n",
      "\n",
      "   Interceptions Thrown_y  Opp Field Goals Made  Field Goals  \n",
      "0                     NaN                   NaN          NaN  \n",
      "1                     NaN                   NaN          NaN  \n",
      "2                     NaN                   NaN          NaN  \n",
      "3                     NaN                   NaN          NaN  \n",
      "4                     NaN                   NaN          NaN  \n",
      "\n",
      "[5 rows x 305 columns]\n",
      "[2013 2015 2014 2016 2017 2019 2018 2020]\n"
     ]
    }
   ],
   "source": [
    "#filtering the data to only include seasons up to 2020\n",
    "\n",
    "final_df[\"Season\"] = pd.to_numeric(final_df[\"Season\"], errors=\"coerce\") #converting the season to numeric\n",
    "final_df = final_df[final_df[\"Season\"] < 2021] #getting rid of any season after 2020\n",
    "final_df.reset_index(drop=True, inplace=True) #resetting the index\n",
    "final_df.to_csv(\"filtered_football_data.csv\", index=False) #saving the filtered data to a csv file\n",
    "\n",
    "print(final_df.head()) #previewing the df\n",
    "print(final_df[\"Season\"].unique()) #seeing what seasons are in the data"
   ]
  }
 ],
 "metadata": {
  "kernelspec": {
   "display_name": "base",
   "language": "python",
   "name": "python3"
  },
  "language_info": {
   "codemirror_mode": {
    "name": "ipython",
    "version": 3
   },
   "file_extension": ".py",
   "mimetype": "text/x-python",
   "name": "python",
   "nbconvert_exporter": "python",
   "pygments_lexer": "ipython3",
   "version": "3.12.7"
  }
 },
 "nbformat": 4,
 "nbformat_minor": 2
}
